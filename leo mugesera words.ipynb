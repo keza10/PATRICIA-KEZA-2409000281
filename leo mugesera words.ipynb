{
  "nbformat": 4,
  "nbformat_minor": 0,
  "metadata": {
    "colab": {
      "provenance": [],
      "authorship_tag": "ABX9TyMr3AmnzLwnzn5y2IT+DAXm",
      "include_colab_link": true
    },
    "kernelspec": {
      "name": "python3",
      "display_name": "Python 3"
    },
    "language_info": {
      "name": "python"
    }
  },
  "cells": [
    {
      "cell_type": "markdown",
      "metadata": {
        "id": "view-in-github",
        "colab_type": "text"
      },
      "source": [
        "<a href=\"https://colab.research.google.com/github/keza10/PATRICIA-KEZA-2409000281/blob/main/leo%20mugesera%20words.ipynb\" target=\"_parent\"><img src=\"https://colab.research.google.com/assets/colab-badge.svg\" alt=\"Open In Colab\"/></a>"
      ]
    },
    {
      "cell_type": "code",
      "execution_count": 19,
      "metadata": {
        "colab": {
          "base_uri": "https://localhost:8080/"
        },
        "id": "c0vEP7UNUGzc",
        "outputId": "d970f9d7-87a3-403c-f8c1-2f8ed0264a83"
      },
      "outputs": [
        {
          "output_type": "stream",
          "name": "stdout",
          "text": [
            "Hate speech detected!offessive words: ['tutsi']\n"
          ]
        }
      ],
      "source": [
        "offensive_words = [\"inyenzi\", \"cockroaches\", \"kill\", \"exterminate\", \"destroy\",\"traitors\", \"snakes\", \"rats\", \"hutu power\", \"tutsi\",\"ethnic cleansing\", \"wipe out\", \"enemy\", \"revenge\" \"impurity\", \"traitors\", \"infiltrators\", \"parasites\"]\n",
        "#fuction to dectect hate speech\n",
        "def detect_hate_speech(text):\n",
        "  detected_words=[word for word in offensive_words  if word in text.lower()]\n",
        "  return detected_words\n",
        "text=\"He said very harsh things so much so that the hearts of some people were hurt. He woke up the Hutu, saying that if they do not cut the necks of the Tutsi it will be the Tutsi who will cut theirs. The speech he said made a lot of people worried because he clearly said to send the Tutsis along the Nyabarongo as a shortcut back to their home in Ethiopia.\"\n",
        "hate_words=detect_hate_speech(text)\n",
        "if hate_words:\n",
        "  print(\"Hate speech detected!offessive words:\",hate_words)\n",
        "else:\n",
        "  print(\"No hate speech detected.\")"
      ]
    }
  ]
}